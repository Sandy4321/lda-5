{
 "metadata": {
  "name": ""
 },
 "nbformat": 3,
 "nbformat_minor": 0,
 "worksheets": [
  {
   "cells": [
    {
     "cell_type": "code",
     "collapsed": false,
     "input": [
      "import collections\n",
      "import re\n",
      "\n",
      "topic_words = {}\n",
      "word_topics = collections.defaultdict(dict)\n",
      "# with open('lda-2500') as f:\n",
      "with open('itemupdates/lda/lda.topToWor.txt') as f:\n",
      "    for line in f:\n",
      "        # topic, words = line.strip().split('\\t')\n",
      "        topic, words = line.strip().split(':', 1)\n",
      "        # keys have commas and colons so we can't do nice split comprehensions :'(\n",
      "        words = {word: float(weight)\n",
      "                 # for word,weight,_ in re.findall(r'(.*?):([\\d\\.E\\-]*?)(,|$)', words.strip('{}'))}\n",
      "                 for word,weight in re.findall(r'\\((.*?),([\\d\\.E\\-]*?)\\)', words.strip('{}'))}\n",
      "        topic_words[topic] = words\n",
      "        for word,weight in words.items():\n",
      "            word_topics[word][topic] = weight\n",
      "\n",
      "#doc = \"3 feet Clear Crystal Rhinestone Chain SS12 3mm Silver\".lower().split()\n",
      "doc = \"Rhinestone Silver\".lower().split()"
     ],
     "language": "python",
     "metadata": {},
     "outputs": [],
     "prompt_number": 63
    },
    {
     "cell_type": "code",
     "collapsed": false,
     "input": [
      "import numpy as np\n",
      "\n",
      "def prep(doc, topics):\n",
      "    # TODO tokenize doc\n",
      "    # throw out irrelevant topics:\n",
      "    words = set(doc)\n",
      "    words = {w for topic_words in topics.values() for w in topic_words\n",
      "             if w in words}\n",
      "    topics = {k: topic_words for k,topic_words in topics.items()\n",
      "              if any(w in words for w in topic_words)}\n",
      "    doc = [w for w in doc\n",
      "           if w in words]\n",
      "    return doc, topics\n",
      "\n",
      "def infer_topics(doc, topics, alpha=0.0001, iterations=10000, burn=1000, thin=100):\n",
      "    doc, topics = prep(doc, topics)\n",
      "\n",
      "    topic_ids = list(topics.keys())\n",
      "    topics = list(topics.values())\n",
      "    K = len(topics)\n",
      "\n",
      "    if K == 0: return {}\n",
      "\n",
      "    n_thetas = 0\n",
      "    sum_thetas = np.zeros(K)\n",
      "    theta = np.random.dirichlet(alpha + numpy.zeros(K))\n",
      "    zs = [None for _ in doc]\n",
      "    for j in range(iterations):\n",
      "        for i,w in enumerate(doc):\n",
      "            ps = np.array([theta[k] * topics[k].get(w, 0) for k in range(K)])\n",
      "            zs[i] = np.random.multinomial(1, ps / ps.sum()).argmax()\n",
      "\n",
      "        topic_counts = np.zeros(K)\n",
      "        for z in zs: topic_counts[z] += 1\n",
      "        theta = numpy.random.dirichlet(alpha + topic_counts)\n",
      "\n",
      "        if j > burn and j % thin == 0:\n",
      "            sum_thetas += theta\n",
      "            n_thetas += 1\n",
      "\n",
      "    theta = sum_thetas / n_thetas\n",
      "    return {topic_ids[i]: weight for i,weight in enumerate(theta)}"
     ],
     "language": "python",
     "metadata": {},
     "outputs": [],
     "prompt_number": 65
    },
    {
     "cell_type": "code",
     "collapsed": false,
     "input": [
      "%timeit infer_topics(doc, topic_words)"
     ],
     "language": "python",
     "metadata": {},
     "outputs": [
      {
       "output_type": "stream",
       "stream": "stdout",
       "text": [
        "1 loops, best of 3: 7.61 s per loop\n"
       ]
      },
      {
       "output_type": "stream",
       "stream": "stderr",
       "text": [
        "-c:19: RuntimeWarning: invalid value encountered in true_divide\n"
       ]
      }
     ],
     "prompt_number": 62
    },
    {
     "cell_type": "code",
     "collapsed": false,
     "input": [
      "import numpy as np\n",
      "\n",
      "def prep(doc, topics):\n",
      "    # TODO tokenize doc\n",
      "    # throw out irrelevant topics:\n",
      "    words = set(doc)\n",
      "    words = {w for topic_words in topics.values() for w in topic_words\n",
      "             if w in words}\n",
      "    topics = {k: topic_words for k,topic_words in topics.items()\n",
      "              if any(w in words for w in topic_words)}\n",
      "    doc = [w for w in doc\n",
      "           if w in words]\n",
      "    return doc, topics\n",
      "\n",
      "def infer_topics(doc, topics, alpha=0.0001, iterations=10000, burn=1000, thin=100):\n",
      "    doc, topics = prep(doc, topics)\n",
      "\n",
      "    topic_ids = list(topics.keys())\n",
      "    topics = list(topics.values())\n",
      "    K = len(topics)\n",
      "\n",
      "    words = list(set(doc))\n",
      "    doc = np.array([words.index(w) for w in doc], dtype=int)\n",
      "    topics = np.array([[topic.get(w, 0) for w in words]\n",
      "                          for topic in topics])\n",
      "\n",
      "    if K == 0: return {}\n",
      "\n",
      "    n_thetas = 0\n",
      "    sum_thetas = np.zeros(K)\n",
      "    theta = np.random.dirichlet(alpha + np.zeros(K))\n",
      "    zs = np.empty(len(doc), dtype=int)\n",
      "    topic_counts = np.empty(K, dtype=int)\n",
      "    for j in range(iterations):\n",
      "        for i,w in enumerate(doc):\n",
      "            ps = theta * topics[:, w]\n",
      "            zs[i] = np.random.multinomial(1, ps / ps.sum()).argmax()\n",
      "\n",
      "        topic_counts.fill(0)\n",
      "        for z in zs: topic_counts[z] += 1\n",
      "        theta = np.random.dirichlet(alpha + topic_counts)\n",
      "\n",
      "        if j > burn and j % thin == 0:\n",
      "            sum_thetas += theta\n",
      "            n_thetas += 1\n",
      "\n",
      "    theta = sum_thetas / n_thetas\n",
      "    return {topic_ids[i]: weight for i,weight in enumerate(theta)}"
     ],
     "language": "python",
     "metadata": {},
     "outputs": [],
     "prompt_number": 69
    },
    {
     "cell_type": "code",
     "collapsed": false,
     "input": [
      "%timeit infer_topics(doc, topic_words)"
     ],
     "language": "python",
     "metadata": {},
     "outputs": [
      {
       "output_type": "stream",
       "stream": "stdout",
       "text": [
        "1 loops, best of 3: 973 ms per loop\n"
       ]
      }
     ],
     "prompt_number": 70
    },
    {
     "cell_type": "code",
     "collapsed": false,
     "input": [
      "%load_ext cythonmagic"
     ],
     "language": "python",
     "metadata": {},
     "outputs": [
      {
       "output_type": "stream",
       "stream": "stdout",
       "text": [
        "The cythonmagic extension is already loaded. To reload it, use:\n",
        "  %reload_ext cythonmagic\n"
       ]
      }
     ],
     "prompt_number": 50
    },
    {
     "cell_type": "code",
     "collapsed": false,
     "input": [
      "%%cython\n",
      "\n",
      "import numpy as np\n",
      "cimport numpy as np\n",
      "\n",
      "cdef prep(doc, topics):\n",
      "    # TODO tokenize doc\n",
      "    # throw out irrelevant topics:\n",
      "    words = set(doc)\n",
      "    words = {w for topic_words in topics.values() for w in topic_words\n",
      "             if w in words}\n",
      "    topics = {k: topic_words for k,topic_words in topics.items()\n",
      "              if any([w in words for w in topic_words])}\n",
      "    doc = [w for w in doc\n",
      "           if w in words]\n",
      "    return doc, topics\n",
      "\n",
      "cpdef infer_topics(doc0, topics0, alpha=0.0001, int iterations=10000, int burn=1000, int thin=100):\n",
      "    doc0, topics0 = prep(doc0, topics0)\n",
      "\n",
      "    topic_ids = list(topics0.keys())\n",
      "    topics0 = list(topics0.values())\n",
      "    cdef int K = len(topics0)\n",
      "\n",
      "    words = list(set(doc0))\n",
      "    cdef np.ndarray[int, ndim=1] doc = np.array([words.index(w) for w in doc0], dtype=int)\n",
      "    cdef np.ndarray[np.float64_t, ndim=1] topics = np.array([[topic.get(w, 0) for w in words]\n",
      "                                                            for topic in topics0])\n",
      "\n",
      "    if K == 0: return {}\n",
      "\n",
      "    cdef int n_thetas = 0\n",
      "    cdef np.ndarray[np.float64_t, ndim=1] sum_thetas = np.zeros(K)\n",
      "    cdef np.ndarray[np.float64_t, ndim=1] theta = np.random.dirichlet(alpha + np.zeros(K))\n",
      "    cdef np.ndarray[int, ndim=1] zs = np.empty(len(doc), dtype=int)\n",
      "    cdef np.ndarray[int, ndim=1] topic_counts = np.empty(K, dtype=int)\n",
      "    cdef np.ndarray[np.float64_t, ndim=1] ps\n",
      "    cdef int j, i, w\n",
      "    for j in range(iterations):\n",
      "        for i,w in enumerate(doc):\n",
      "            ps = theta * topics[:, w]\n",
      "            zs[i] = np.random.multinomial(1, ps / ps.sum()).argmax()\n",
      "\n",
      "        topic_counts.fill(0)\n",
      "        for z in zs: topic_counts[z] += 1\n",
      "        theta = np.random.dirichlet(alpha + topic_counts)\n",
      "\n",
      "        if j > burn and j % thin == 0:\n",
      "            sum_thetas += theta\n",
      "            n_thetas += 1\n",
      "\n",
      "    theta = sum_thetas / n_thetas\n",
      "    return {topic_ids[i]: weight for i,weight in enumerate(theta)}\n",
      "\n",
      "\n",
      "#doc = \"3 feet Clear Crystal Rhinestone Chain SS12 3mm Silver\".lower().split()\n",
      "doc = \"Rhinestone Silver\".lower().split()"
     ],
     "language": "python",
     "metadata": {},
     "outputs": [],
     "prompt_number": 95
    },
    {
     "cell_type": "code",
     "collapsed": false,
     "input": [
      "%timeit infer_topics(doc, topic_words)"
     ],
     "language": "python",
     "metadata": {},
     "outputs": [
      {
       "ename": "TypeError",
       "evalue": "an integer is required",
       "output_type": "pyerr",
       "traceback": [
        "\u001b[0;31m---------------------------------------------------------------------------\u001b[0m\n\u001b[0;31mTypeError\u001b[0m                                 Traceback (most recent call last)",
        "\u001b[0;32m<ipython-input-96-5be9d6e739a2>\u001b[0m in \u001b[0;36m<module>\u001b[0;34m()\u001b[0m\n\u001b[0;32m----> 1\u001b[0;31m \u001b[0mget_ipython\u001b[0m\u001b[0;34m(\u001b[0m\u001b[0;34m)\u001b[0m\u001b[0;34m.\u001b[0m\u001b[0mmagic\u001b[0m\u001b[0;34m(\u001b[0m\u001b[0;34m'timeit infer_topics(doc, topic_words)'\u001b[0m\u001b[0;34m)\u001b[0m\u001b[0;34m\u001b[0m\u001b[0m\n\u001b[0m",
        "\u001b[0;32m/usr/local/Cellar/python3/3.3.2/Frameworks/Python.framework/Versions/3.3/lib/python3.3/site-packages/ipython-1.0.0-py3.3.egg/IPython/core/interactiveshell.py\u001b[0m in \u001b[0;36mmagic\u001b[0;34m(self, arg_s)\u001b[0m\n\u001b[1;32m   2165\u001b[0m         \u001b[0mmagic_name\u001b[0m\u001b[0;34m,\u001b[0m \u001b[0m_\u001b[0m\u001b[0;34m,\u001b[0m \u001b[0mmagic_arg_s\u001b[0m \u001b[0;34m=\u001b[0m \u001b[0marg_s\u001b[0m\u001b[0;34m.\u001b[0m\u001b[0mpartition\u001b[0m\u001b[0;34m(\u001b[0m\u001b[0;34m' '\u001b[0m\u001b[0;34m)\u001b[0m\u001b[0;34m\u001b[0m\u001b[0m\n\u001b[1;32m   2166\u001b[0m         \u001b[0mmagic_name\u001b[0m \u001b[0;34m=\u001b[0m \u001b[0mmagic_name\u001b[0m\u001b[0;34m.\u001b[0m\u001b[0mlstrip\u001b[0m\u001b[0;34m(\u001b[0m\u001b[0mprefilter\u001b[0m\u001b[0;34m.\u001b[0m\u001b[0mESC_MAGIC\u001b[0m\u001b[0;34m)\u001b[0m\u001b[0;34m\u001b[0m\u001b[0m\n\u001b[0;32m-> 2167\u001b[0;31m         \u001b[0;32mreturn\u001b[0m \u001b[0mself\u001b[0m\u001b[0;34m.\u001b[0m\u001b[0mrun_line_magic\u001b[0m\u001b[0;34m(\u001b[0m\u001b[0mmagic_name\u001b[0m\u001b[0;34m,\u001b[0m \u001b[0mmagic_arg_s\u001b[0m\u001b[0;34m)\u001b[0m\u001b[0;34m\u001b[0m\u001b[0m\n\u001b[0m\u001b[1;32m   2168\u001b[0m \u001b[0;34m\u001b[0m\u001b[0m\n\u001b[1;32m   2169\u001b[0m     \u001b[0;31m#-------------------------------------------------------------------------\u001b[0m\u001b[0;34m\u001b[0m\u001b[0;34m\u001b[0m\u001b[0m\n",
        "\u001b[0;32m/usr/local/Cellar/python3/3.3.2/Frameworks/Python.framework/Versions/3.3/lib/python3.3/site-packages/ipython-1.0.0-py3.3.egg/IPython/core/interactiveshell.py\u001b[0m in \u001b[0;36mrun_line_magic\u001b[0;34m(self, magic_name, line)\u001b[0m\n\u001b[1;32m   2086\u001b[0m                 \u001b[0mkwargs\u001b[0m\u001b[0;34m[\u001b[0m\u001b[0;34m'local_ns'\u001b[0m\u001b[0;34m]\u001b[0m \u001b[0;34m=\u001b[0m \u001b[0msys\u001b[0m\u001b[0;34m.\u001b[0m\u001b[0m_getframe\u001b[0m\u001b[0;34m(\u001b[0m\u001b[0mstack_depth\u001b[0m\u001b[0;34m)\u001b[0m\u001b[0;34m.\u001b[0m\u001b[0mf_locals\u001b[0m\u001b[0;34m\u001b[0m\u001b[0m\n\u001b[1;32m   2087\u001b[0m             \u001b[0;32mwith\u001b[0m \u001b[0mself\u001b[0m\u001b[0;34m.\u001b[0m\u001b[0mbuiltin_trap\u001b[0m\u001b[0;34m:\u001b[0m\u001b[0;34m\u001b[0m\u001b[0m\n\u001b[0;32m-> 2088\u001b[0;31m                 \u001b[0mresult\u001b[0m \u001b[0;34m=\u001b[0m \u001b[0mfn\u001b[0m\u001b[0;34m(\u001b[0m\u001b[0;34m*\u001b[0m\u001b[0margs\u001b[0m\u001b[0;34m,\u001b[0m\u001b[0;34m**\u001b[0m\u001b[0mkwargs\u001b[0m\u001b[0;34m)\u001b[0m\u001b[0;34m\u001b[0m\u001b[0m\n\u001b[0m\u001b[1;32m   2089\u001b[0m             \u001b[0;32mreturn\u001b[0m \u001b[0mresult\u001b[0m\u001b[0;34m\u001b[0m\u001b[0m\n\u001b[1;32m   2090\u001b[0m \u001b[0;34m\u001b[0m\u001b[0m\n",
        "\u001b[0;32m/usr/local/Cellar/python3/3.3.2/Frameworks/Python.framework/Versions/3.3/lib/python3.3/site-packages/ipython-1.0.0-py3.3.egg/IPython/core/magics/execution.py\u001b[0m in \u001b[0;36mtimeit\u001b[0;34m(self, line, cell)\u001b[0m\n",
        "\u001b[0;32m/usr/local/Cellar/python3/3.3.2/Frameworks/Python.framework/Versions/3.3/lib/python3.3/site-packages/ipython-1.0.0-py3.3.egg/IPython/core/magic.py\u001b[0m in \u001b[0;36m<lambda>\u001b[0;34m(f, *a, **k)\u001b[0m\n\u001b[1;32m    190\u001b[0m     \u001b[0;31m# but it's overkill for just that one bit of state.\u001b[0m\u001b[0;34m\u001b[0m\u001b[0;34m\u001b[0m\u001b[0m\n\u001b[1;32m    191\u001b[0m     \u001b[0;32mdef\u001b[0m \u001b[0mmagic_deco\u001b[0m\u001b[0;34m(\u001b[0m\u001b[0marg\u001b[0m\u001b[0;34m)\u001b[0m\u001b[0;34m:\u001b[0m\u001b[0;34m\u001b[0m\u001b[0m\n\u001b[0;32m--> 192\u001b[0;31m         \u001b[0mcall\u001b[0m \u001b[0;34m=\u001b[0m \u001b[0;32mlambda\u001b[0m \u001b[0mf\u001b[0m\u001b[0;34m,\u001b[0m \u001b[0;34m*\u001b[0m\u001b[0ma\u001b[0m\u001b[0;34m,\u001b[0m \u001b[0;34m**\u001b[0m\u001b[0mk\u001b[0m\u001b[0;34m:\u001b[0m \u001b[0mf\u001b[0m\u001b[0;34m(\u001b[0m\u001b[0;34m*\u001b[0m\u001b[0ma\u001b[0m\u001b[0;34m,\u001b[0m \u001b[0;34m**\u001b[0m\u001b[0mk\u001b[0m\u001b[0;34m)\u001b[0m\u001b[0;34m\u001b[0m\u001b[0m\n\u001b[0m\u001b[1;32m    193\u001b[0m \u001b[0;34m\u001b[0m\u001b[0m\n\u001b[1;32m    194\u001b[0m         \u001b[0;32mif\u001b[0m \u001b[0misinstance\u001b[0m\u001b[0;34m(\u001b[0m\u001b[0marg\u001b[0m\u001b[0;34m,\u001b[0m \u001b[0mcollections\u001b[0m\u001b[0;34m.\u001b[0m\u001b[0mCallable\u001b[0m\u001b[0;34m)\u001b[0m\u001b[0;34m:\u001b[0m\u001b[0;34m\u001b[0m\u001b[0m\n",
        "\u001b[0;32m/usr/local/Cellar/python3/3.3.2/Frameworks/Python.framework/Versions/3.3/lib/python3.3/site-packages/ipython-1.0.0-py3.3.egg/IPython/core/magics/execution.py\u001b[0m in \u001b[0;36mtimeit\u001b[0;34m(self, line, cell)\u001b[0m\n\u001b[1;32m    928\u001b[0m             \u001b[0mnumber\u001b[0m \u001b[0;34m=\u001b[0m \u001b[0;36m1\u001b[0m\u001b[0;34m\u001b[0m\u001b[0m\n\u001b[1;32m    929\u001b[0m             \u001b[0;32mfor\u001b[0m \u001b[0mi\u001b[0m \u001b[0;32min\u001b[0m \u001b[0mrange\u001b[0m\u001b[0;34m(\u001b[0m\u001b[0;36m1\u001b[0m\u001b[0;34m,\u001b[0m \u001b[0;36m10\u001b[0m\u001b[0;34m)\u001b[0m\u001b[0;34m:\u001b[0m\u001b[0;34m\u001b[0m\u001b[0m\n\u001b[0;32m--> 930\u001b[0;31m                 \u001b[0;32mif\u001b[0m \u001b[0mtimer\u001b[0m\u001b[0;34m.\u001b[0m\u001b[0mtimeit\u001b[0m\u001b[0;34m(\u001b[0m\u001b[0mnumber\u001b[0m\u001b[0;34m)\u001b[0m \u001b[0;34m>=\u001b[0m \u001b[0;36m0.2\u001b[0m\u001b[0;34m:\u001b[0m\u001b[0;34m\u001b[0m\u001b[0m\n\u001b[0m\u001b[1;32m    931\u001b[0m                     \u001b[0;32mbreak\u001b[0m\u001b[0;34m\u001b[0m\u001b[0m\n\u001b[1;32m    932\u001b[0m                 \u001b[0mnumber\u001b[0m \u001b[0;34m*=\u001b[0m \u001b[0;36m10\u001b[0m\u001b[0;34m\u001b[0m\u001b[0m\n",
        "\u001b[0;32m/usr/local/Cellar/python3/3.3.2/Frameworks/Python.framework/Versions/3.3/lib/python3.3/timeit.py\u001b[0m in \u001b[0;36mtimeit\u001b[0;34m(self, number)\u001b[0m\n\u001b[1;32m    188\u001b[0m         \u001b[0mgc\u001b[0m\u001b[0;34m.\u001b[0m\u001b[0mdisable\u001b[0m\u001b[0;34m(\u001b[0m\u001b[0;34m)\u001b[0m\u001b[0;34m\u001b[0m\u001b[0m\n\u001b[1;32m    189\u001b[0m         \u001b[0;32mtry\u001b[0m\u001b[0;34m:\u001b[0m\u001b[0;34m\u001b[0m\u001b[0m\n\u001b[0;32m--> 190\u001b[0;31m             \u001b[0mtiming\u001b[0m \u001b[0;34m=\u001b[0m \u001b[0mself\u001b[0m\u001b[0;34m.\u001b[0m\u001b[0minner\u001b[0m\u001b[0;34m(\u001b[0m\u001b[0mit\u001b[0m\u001b[0;34m,\u001b[0m \u001b[0mself\u001b[0m\u001b[0;34m.\u001b[0m\u001b[0mtimer\u001b[0m\u001b[0;34m)\u001b[0m\u001b[0;34m\u001b[0m\u001b[0m\n\u001b[0m\u001b[1;32m    191\u001b[0m         \u001b[0;32mfinally\u001b[0m\u001b[0;34m:\u001b[0m\u001b[0;34m\u001b[0m\u001b[0m\n\u001b[1;32m    192\u001b[0m             \u001b[0;32mif\u001b[0m \u001b[0mgcold\u001b[0m\u001b[0;34m:\u001b[0m\u001b[0;34m\u001b[0m\u001b[0m\n",
        "\u001b[0;32m<magic-timeit>\u001b[0m in \u001b[0;36minner\u001b[0;34m(_it, _timer)\u001b[0m\n",
        "\u001b[0;32m/Users/hcooper/.ipython/cython/_cython_magic_33073e7f3a8956a62545894b236c0c7d.so\u001b[0m in \u001b[0;36m_cython_magic_33073e7f3a8956a62545894b236c0c7d.infer_topics (/Users/hcooper/.ipython/cython/_cython_magic_33073e7f3a8956a62545894b236c0c7d.c:3230)\u001b[0;34m()\u001b[0m\n",
        "\u001b[0;32m/Users/hcooper/.ipython/cython/_cython_magic_33073e7f3a8956a62545894b236c0c7d.so\u001b[0m in \u001b[0;36m_cython_magic_33073e7f3a8956a62545894b236c0c7d.infer_topics (/Users/hcooper/.ipython/cython/_cython_magic_33073e7f3a8956a62545894b236c0c7d.c:2209)\u001b[0;34m()\u001b[0m\n",
        "\u001b[0;31mTypeError\u001b[0m: an integer is required"
       ]
      }
     ],
     "prompt_number": 96
    },
    {
     "cell_type": "code",
     "collapsed": false,
     "input": [],
     "language": "python",
     "metadata": {},
     "outputs": []
    }
   ],
   "metadata": {}
  }
 ]
}